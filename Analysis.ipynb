{
 "cells": [
  {
   "cell_type": "code",
   "execution_count": 1,
   "metadata": {
    "collapsed": false
   },
   "outputs": [
    {
     "data": {
      "text/plain": [
       "\u001b[32mimport \u001b[36mscala.io.Source\u001b[0m"
      ]
     },
     "metadata": {},
     "output_type": "display_data"
    }
   ],
   "source": [
    "import scala.io.Source"
   ]
  },
  {
   "cell_type": "code",
   "execution_count": 2,
   "metadata": {
    "collapsed": false
   },
   "outputs": [
    {
     "data": {
      "text/plain": [
       "\u001b[36mcommits\u001b[0m: \u001b[32mSeq\u001b[0m[\u001b[32mString\u001b[0m] = \u001b[33mArray\u001b[0m(\n",
       "  \u001b[32m\"shapeless: topic/lazyextensions\"\u001b[0m,\n",
       "  \u001b[32m\"3fd06cd0 0. master\"\u001b[0m,\n",
       "  \u001b[32m\"0fa6a9d4 1. v0\"\u001b[0m,\n",
       "  \u001b[32m\"2085addf 2. Strict Implicit\"\u001b[0m,\n",
       "  \u001b[32m\"22b85cb8 3. inlining\"\u001b[0m,\n",
       "  \u001b[32m\"cd05b4af 4. cached\"\u001b[0m,\n",
       "  \u001b[32m\"0760706f 5. Don't clear scalac implicit cache\"\u001b[0m,\n",
       "  \u001b[32m\"41f6f6c5 6. Revert inlining\"\u001b[0m,\n",
       "  \u001b[32m\"\"\u001b[0m,\n",
       "  \u001b[32m\"upickle-pprint: topic/optim\"\u001b[0m,\n",
       "  \u001b[32m\"19052c3f 0. master\"\u001b[0m,\n",
       "  \u001b[32m\"2a63bef3 1. Lazy only, Implicit, no Strict or Cached\"\u001b[0m,\n",
       "  \u001b[32m\"4266949f 2. No Lazy tails\"\u001b[0m,\n",
       "  \u001b[32m\"aabcc2a4 3. Helper type classes for tails\"\u001b[0m,\n",
       "\u001b[33m...\u001b[0m"
      ]
     },
     "metadata": {},
     "output_type": "display_data"
    }
   ],
   "source": [
    "val commits = Source.fromFile(\"commits\").getLines().toArray.toSeq"
   ]
  },
  {
   "cell_type": "code",
   "execution_count": 3,
   "metadata": {
    "collapsed": false
   },
   "outputs": [
    {
     "data": {
      "text/plain": [
       "\u001b[36mshapelessCommits\u001b[0m: \u001b[32mSeq\u001b[0m[(\u001b[32mString\u001b[0m, \u001b[32mString\u001b[0m)] = \u001b[33mArrayBuffer\u001b[0m(\n",
       "  \u001b[33m\u001b[0m(\u001b[32m\"3fd06cd0\"\u001b[0m, \u001b[32m\"0. master\"\u001b[0m),\n",
       "  \u001b[33m\u001b[0m(\u001b[32m\"0fa6a9d4\"\u001b[0m, \u001b[32m\"1. v0\"\u001b[0m),\n",
       "  \u001b[33m\u001b[0m(\u001b[32m\"2085addf\"\u001b[0m, \u001b[32m\"2. Strict Implicit\"\u001b[0m),\n",
       "  \u001b[33m\u001b[0m(\u001b[32m\"22b85cb8\"\u001b[0m, \u001b[32m\"3. inlining\"\u001b[0m),\n",
       "  \u001b[33m\u001b[0m(\u001b[32m\"cd05b4af\"\u001b[0m, \u001b[32m\"4. cached\"\u001b[0m),\n",
       "  \u001b[33m\u001b[0m(\u001b[32m\"0760706f\"\u001b[0m, \u001b[32m\"5. Don't clear scalac implicit cache\"\u001b[0m),\n",
       "  \u001b[33m\u001b[0m(\u001b[32m\"41f6f6c5\"\u001b[0m, \u001b[32m\"6. Revert inlining\"\u001b[0m)\n",
       ")\n",
       "\u001b[36mupickleCommits\u001b[0m: \u001b[32mSeq\u001b[0m[(\u001b[32mString\u001b[0m, \u001b[32mString\u001b[0m)] = \u001b[33mArrayBuffer\u001b[0m(\n",
       "  \u001b[33m\u001b[0m(\u001b[32m\"19052c3f\"\u001b[0m, \u001b[32m\"0. master\"\u001b[0m),\n",
       "  \u001b[33m\u001b[0m(\u001b[32m\"2a63bef3\"\u001b[0m, \u001b[32m\"1. Lazy only, Implicit, no Strict or Cached\"\u001b[0m),\n",
       "  \u001b[33m\u001b[0m(\u001b[32m\"4266949f\"\u001b[0m, \u001b[32m\"2. No Lazy tails\"\u001b[0m),\n",
       "  \u001b[33m\u001b[0m(\u001b[32m\"aabcc2a4\"\u001b[0m, \u001b[32m\"3. Helper type classes for tails\"\u001b[0m),\n",
       "  \u001b[33m\u001b[0m(\u001b[32m\"aa82a2ba\"\u001b[0m, \u001b[32m\"4. Usual implicit prioritisation\"\u001b[0m),\n",
       "  \u001b[33m\u001b[0m(\u001b[32m\"b823fab0\"\u001b[0m, \u001b[32m\"5. No superfluous Lazy wrapper\"\u001b[0m),\n",
       "  \u001b[33m\u001b[0m(\u001b[32m\"e5954868\"\u001b[0m, \u001b[32m\"6. Using Strict\"\u001b[0m),\n",
       "  \u001b[33m\u001b[0m(\u001b[32m\"5938da82\"\u001b[0m, \u001b[32m\"6. Cached\"\u001b[0m),\n",
       "  \u001b[33m\u001b[0m(\u001b[32m\"b4d36c6e\"\u001b[0m, \u001b[32m\"7. All Strict replaced by Lazy\"\u001b[0m)\n",
       ")"
      ]
     },
     "metadata": {},
     "output_type": "display_data"
    }
   ],
   "source": [
    "val (Seq(_, shapelessCommits @ _*), Seq(_, _, upickleCommits @ _*)) = commits\n",
    "  .map(_.split(\" \", 2).toSeq)\n",
    "  .collect{\n",
    "    case Seq(c, d) => c -> d\n",
    "    case Seq(other) => other -> \"\"\n",
    "  }\n",
    "  .splitAt(commits.indexWhere(_.isEmpty))"
   ]
  },
  {
   "cell_type": "code",
   "execution_count": 4,
   "metadata": {
    "collapsed": false
   },
   "outputs": [
    {
     "data": {
      "text/plain": [
       "\u001b[36mshapelessCommitsMap\u001b[0m: \u001b[32mMap\u001b[0m[\u001b[32mString\u001b[0m, \u001b[32mString\u001b[0m] = \u001b[33mMap\u001b[0m(\n",
       "  \u001b[32m\"22b85cb8\"\u001b[0m -> \u001b[32m\"3. inlining\"\u001b[0m,\n",
       "  \u001b[32m\"0fa6a9d4\"\u001b[0m -> \u001b[32m\"1. v0\"\u001b[0m,\n",
       "  \u001b[32m\"3fd06cd0\"\u001b[0m -> \u001b[32m\"0. master\"\u001b[0m,\n",
       "  \u001b[32m\"0760706f\"\u001b[0m -> \u001b[32m\"5. Don't clear scalac implicit cache\"\u001b[0m,\n",
       "  \u001b[32m\"2085addf\"\u001b[0m -> \u001b[32m\"2. Strict Implicit\"\u001b[0m,\n",
       "  \u001b[32m\"41f6f6c5\"\u001b[0m -> \u001b[32m\"6. Revert inlining\"\u001b[0m,\n",
       "  \u001b[32m\"cd05b4af\"\u001b[0m -> \u001b[32m\"4. cached\"\u001b[0m\n",
       ")\n",
       "\u001b[36mupickleCommitsMap\u001b[0m: \u001b[32mMap\u001b[0m[\u001b[32mString\u001b[0m, \u001b[32mString\u001b[0m] = \u001b[33mMap\u001b[0m(\n",
       "  \u001b[32m\"e5954868\"\u001b[0m -> \u001b[32m\"6. Using Strict\"\u001b[0m,\n",
       "  \u001b[32m\"2a63bef3\"\u001b[0m -> \u001b[32m\"1. Lazy only, Implicit, no Strict or Cached\"\u001b[0m,\n",
       "  \u001b[32m\"aabcc2a4\"\u001b[0m -> \u001b[32m\"3. Helper type classes for tails\"\u001b[0m,\n",
       "  \u001b[32m\"b4d36c6e\"\u001b[0m -> \u001b[32m\"7. All Strict replaced by Lazy\"\u001b[0m,\n",
       "  \u001b[32m\"4266949f\"\u001b[0m -> \u001b[32m\"2. No Lazy tails\"\u001b[0m,\n",
       "  \u001b[32m\"b823fab0\"\u001b[0m -> \u001b[32m\"5. No superfluous Lazy wrapper\"\u001b[0m,\n",
       "  \u001b[32m\"aa82a2ba\"\u001b[0m -> \u001b[32m\"4. Usual implicit prioritisation\"\u001b[0m,\n",
       "  \u001b[32m\"19052c3f\"\u001b[0m -> \u001b[32m\"0. master\"\u001b[0m,\n",
       "  \u001b[32m\"5938da82\"\u001b[0m -> \u001b[32m\"6. Cached\"\u001b[0m\n",
       ")"
      ]
     },
     "metadata": {},
     "output_type": "display_data"
    }
   ],
   "source": [
    "val shapelessCommitsMap = shapelessCommits.toMap\n",
    "val upickleCommitsMap = upickleCommits.toMap"
   ]
  },
  {
   "cell_type": "code",
   "execution_count": 5,
   "metadata": {
    "collapsed": false
   },
   "outputs": [
    {
     "data": {
      "text/plain": [
       "defined \u001b[32mclass \u001b[36mSingleRun\u001b[0m\n",
       "defined \u001b[32mobject \u001b[36mSingleRun\u001b[0m"
      ]
     },
     "metadata": {},
     "output_type": "display_data"
    }
   ],
   "source": [
    "case class SingleRun(\n",
    "  shapelessCommit: String,\n",
    "  upickleCommit: String,\n",
    "  run: Int,\n",
    "  timeSec: Int\n",
    ") {\n",
    "  def key = (shapelessCommit, upickleCommit)\n",
    "}\n",
    "\n",
    "object SingleRun {\n",
    "  def fromLine(line: Seq[String]) = {\n",
    "    assert(line.length == 4)\n",
    "    SingleRun(line(0), line(1), line(2).toInt, line(3).toInt)\n",
    "  }\n",
    "}"
   ]
  },
  {
   "cell_type": "code",
   "execution_count": 6,
   "metadata": {
    "collapsed": true
   },
   "outputs": [
    {
     "name": "stdout",
     "output_type": "stream",
     "text": [
      ":: problems summary ::\n",
      ":::: WARNINGS\n",
      "\tUnable to reparse com.github.alexarchambault.jupyter#jupyter-scala-api_2.11.6;0.2.0-SNAPSHOT from sonatype-snapshots, using Fri Jun 05 10:12:58 CEST 2015\n",
      "\n",
      "\tChoosing sonatype-snapshots for com.github.alexarchambault.jupyter#jupyter-scala-api_2.11.6;0.2.0-SNAPSHOT\n",
      "\n",
      "\tUnable to reparse com.github.alexarchambault#ammonite-api_2.11.6;0.3.1-SNAPSHOT from sonatype-snapshots, using Thu Jun 04 00:37:50 CEST 2015\n",
      "\n",
      "\tChoosing sonatype-snapshots for com.github.alexarchambault#ammonite-api_2.11.6;0.3.1-SNAPSHOT\n",
      "\n",
      "\tUnable to reparse com.github.alexarchambault.jupyter#jupyter-api_2.11;0.2.0-SNAPSHOT from sonatype-snapshots, using Mon Jun 01 02:54:01 CEST 2015\n",
      "\n",
      "\tChoosing sonatype-snapshots for com.github.alexarchambault.jupyter#jupyter-api_2.11;0.2.0-SNAPSHOT\n",
      "\n"
     ]
    },
    {
     "data": {
      "text/plain": []
     },
     "metadata": {},
     "output_type": "display_data"
    }
   ],
   "source": [
    "load.ivy(\"com.twitter\" %% \"algebird-core\" % \"0.11.0\")"
   ]
  },
  {
   "cell_type": "code",
   "execution_count": 7,
   "metadata": {
    "collapsed": false
   },
   "outputs": [
    {
     "data": {
      "text/plain": [
       "\u001b[32mimport \u001b[36mcom.twitter.algebird.{ Moments, Monoid }\u001b[0m"
      ]
     },
     "metadata": {},
     "output_type": "display_data"
    }
   ],
   "source": [
    "import com.twitter.algebird.{ Moments, Monoid }"
   ]
  },
  {
   "cell_type": "code",
   "execution_count": 8,
   "metadata": {
    "collapsed": false
   },
   "outputs": [
    {
     "data": {
      "text/plain": [
       "\u001b[36mstats\u001b[0m: \u001b[32mMap\u001b[0m[(\u001b[32mString\u001b[0m, \u001b[32mString\u001b[0m), (\u001b[32mDouble\u001b[0m, \u001b[32mDouble\u001b[0m)] = \u001b[33mMap\u001b[0m(\n",
       "  \u001b[33m\u001b[0m(\u001b[32m\"0760706f\"\u001b[0m, \u001b[32m\"b4d36c6e\"\u001b[0m) -> \u001b[33m\u001b[0m(\u001b[32m96.8\u001b[0m, \u001b[32m2.227105745132009\u001b[0m),\n",
       "  \u001b[33m\u001b[0m(\u001b[32m\"22b85cb8\"\u001b[0m, \u001b[32m\"e5954868\"\u001b[0m) -> \u001b[33m\u001b[0m(\u001b[32m99.0\u001b[0m, \u001b[32m2.756809750418044\u001b[0m),\n",
       "  \u001b[33m\u001b[0m(\u001b[32m\"2085addf\"\u001b[0m, \u001b[32m\"b823fab0\"\u001b[0m) -> \u001b[33m\u001b[0m(\u001b[32m105.0\u001b[0m, \u001b[32m1.8973665961010278\u001b[0m),\n",
       "  \u001b[33m\u001b[0m(\u001b[32m\"0fa6a9d4\"\u001b[0m, \u001b[32m\"4266949f\"\u001b[0m) -> \u001b[33m\u001b[0m(\u001b[32m156.4\u001b[0m, \u001b[32m2.65329983228432\u001b[0m),\n",
       "  \u001b[33m\u001b[0m(\u001b[32m\"cd05b4af\"\u001b[0m, \u001b[32m\"b4d36c6e\"\u001b[0m) -> \u001b[33m\u001b[0m(\u001b[32m94.2\u001b[0m, \u001b[32m1.1661903789690597\u001b[0m),\n",
       "  \u001b[33m\u001b[0m(\u001b[32m\"0fa6a9d4\"\u001b[0m, \u001b[32m\"aa82a2ba\"\u001b[0m) -> \u001b[33m\u001b[0m(\u001b[32m117.8\u001b[0m, \u001b[32m2.4819347291981715\u001b[0m),\n",
       "  \u001b[33m\u001b[0m(\u001b[32m\"0fa6a9d4\"\u001b[0m, \u001b[32m\"aabcc2a4\"\u001b[0m) -> \u001b[33m\u001b[0m(\u001b[32m139.8\u001b[0m, \u001b[32m3.187475490101844\u001b[0m),\n",
       "\u001b[33m...\u001b[0m"
      ]
     },
     "metadata": {},
     "output_type": "display_data"
    }
   ],
   "source": [
    "val stats = Source.fromFile(\"results-1.csv\")\n",
    "  .getLines()\n",
    "  .toList\n",
    "  .map(_.split(';').toSeq)\n",
    "  .drop(1) // drop header\n",
    "  .map(SingleRun.fromLine)\n",
    "  .groupBy(_.key)\n",
    "  .mapValues{ l =>\n",
    "    val m = Monoid.sum(l.map(run => Moments(run.timeSec)))\n",
    "    (m.mean, m.stddev)\n",
    "  }"
   ]
  },
  {
   "cell_type": "code",
   "execution_count": 9,
   "metadata": {
    "collapsed": false
   },
   "outputs": [
    {
     "data": {
      "text/plain": [
       "\u001b[36mupickleStats\u001b[0m: \u001b[32mSeq\u001b[0m[((\u001b[32mString\u001b[0m, \u001b[32mString\u001b[0m), \u001b[32mList\u001b[0m[((\u001b[32mString\u001b[0m, \u001b[32mString\u001b[0m), (\u001b[32mDouble\u001b[0m, \u001b[32mDouble\u001b[0m))])] = \u001b[33mArrayBuffer\u001b[0m(\n",
       "  \u001b[33m\u001b[0m(\n",
       "    \u001b[33m\u001b[0m(\u001b[32m\"3fd06cd0\"\u001b[0m, \u001b[32m\"0. master\"\u001b[0m),\n",
       "    \u001b[33mList\u001b[0m(\n",
       "      \u001b[33m\u001b[0m(\n",
       "        \u001b[33m\u001b[0m(\u001b[32m\"19052c3f\"\u001b[0m, \u001b[32m\"0. master\"\u001b[0m),\n",
       "        \u001b[33m\u001b[0m(\u001b[32m32.6\u001b[0m, \u001b[32m1.019803902718557\u001b[0m)\n",
       "      )\n",
       "    )\n",
       "  ),\n",
       "  \u001b[33m\u001b[0m(\n",
       "    \u001b[33m\u001b[0m(\u001b[32m\"0fa6a9d4\"\u001b[0m, \u001b[32m\"1. v0\"\u001b[0m),\n",
       "    \u001b[33mList\u001b[0m(\n",
       "      \u001b[33m\u001b[0m(\n",
       "        \u001b[33m\u001b[0m(\u001b[32m\"19052c3f\"\u001b[0m, \u001b[32m\"0. master\"\u001b[0m),\n",
       "\u001b[33m...\u001b[0m"
      ]
     },
     "metadata": {},
     "output_type": "display_data"
    }
   ],
   "source": [
    "val upickleStats = shapelessCommits\n",
    "  .map(t => t -> \n",
    "     stats\n",
    "       .collect{ case ((s, u), stats) if s == t._1 =>\n",
    "         (u, upickleCommitsMap(u)) -> stats\n",
    "       }\n",
    "       .toList\n",
    "       .sortBy(kv => upickleCommits.indexOf(kv._1))\n",
    "  )"
   ]
  },
  {
   "cell_type": "code",
   "execution_count": 10,
   "metadata": {
    "collapsed": false
   },
   "outputs": [
    {
     "data": {
      "text/plain": [
       "\u001b[36mshapelessStats\u001b[0m: \u001b[32mSeq\u001b[0m[((\u001b[32mString\u001b[0m, \u001b[32mString\u001b[0m), \u001b[32mList\u001b[0m[((\u001b[32mString\u001b[0m, \u001b[32mString\u001b[0m), (\u001b[32mDouble\u001b[0m, \u001b[32mDouble\u001b[0m))])] = \u001b[33mArrayBuffer\u001b[0m(\n",
       "  \u001b[33m\u001b[0m(\n",
       "    \u001b[33m\u001b[0m(\u001b[32m\"19052c3f\"\u001b[0m, \u001b[32m\"0. master\"\u001b[0m),\n",
       "    \u001b[33mList\u001b[0m(\n",
       "      \u001b[33m\u001b[0m(\n",
       "        \u001b[33m\u001b[0m(\u001b[32m\"3fd06cd0\"\u001b[0m, \u001b[32m\"0. master\"\u001b[0m),\n",
       "        \u001b[33m\u001b[0m(\u001b[32m32.6\u001b[0m, \u001b[32m1.019803902718557\u001b[0m)\n",
       "      ),\n",
       "      \u001b[33m\u001b[0m(\n",
       "        \u001b[33m\u001b[0m(\u001b[32m\"0fa6a9d4\"\u001b[0m, \u001b[32m\"1. v0\"\u001b[0m),\n",
       "        \u001b[33m\u001b[0m(\u001b[32m32.8\u001b[0m, \u001b[32m0.7483314773547879\u001b[0m)\n",
       "      ),\n",
       "      \u001b[33m\u001b[0m(\n",
       "        \u001b[33m\u001b[0m(\u001b[32m\"2085addf\"\u001b[0m, \u001b[32m\"2. Strict Implicit\"\u001b[0m),\n",
       "        \u001b[33m\u001b[0m(\u001b[32m33.0\u001b[0m, \u001b[32m1.0954451150103328\u001b[0m)\n",
       "\u001b[33m...\u001b[0m"
      ]
     },
     "metadata": {},
     "output_type": "display_data"
    }
   ],
   "source": [
    "val shapelessStats = upickleCommits\n",
    "  .map(t => t -> \n",
    "     stats\n",
    "       .collect{ case ((s, u), stats) if u == t._1 =>\n",
    "         (s, shapelessCommitsMap(s)) -> stats\n",
    "       }\n",
    "       .toList\n",
    "       .sortBy(kv => shapelessCommits.indexOf(kv._1))\n",
    "  )"
   ]
  },
  {
   "cell_type": "code",
   "execution_count": 11,
   "metadata": {
    "collapsed": true
   },
   "outputs": [
    {
     "name": "stdout",
     "output_type": "stream",
     "text": [
      ":: problems summary ::\n",
      ":::: WARNINGS\n",
      "\tUnable to reparse com.github.alexarchambault.jupyter#jupyter-scala-api_2.11.6;0.2.0-SNAPSHOT from sonatype-snapshots, using Fri Jun 05 10:12:58 CEST 2015\n",
      "\n",
      "\tChoosing sonatype-snapshots for com.github.alexarchambault.jupyter#jupyter-scala-api_2.11.6;0.2.0-SNAPSHOT\n",
      "\n",
      "\tUnable to reparse com.github.alexarchambault#ammonite-api_2.11.6;0.3.1-SNAPSHOT from sonatype-snapshots, using Thu Jun 04 00:37:50 CEST 2015\n",
      "\n",
      "\tChoosing sonatype-snapshots for com.github.alexarchambault#ammonite-api_2.11.6;0.3.1-SNAPSHOT\n",
      "\n",
      "\tUnable to reparse com.github.alexarchambault.jupyter#jupyter-api_2.11;0.2.0-SNAPSHOT from sonatype-snapshots, using Mon Jun 01 02:54:01 CEST 2015\n",
      "\n",
      "\tChoosing sonatype-snapshots for com.github.alexarchambault.jupyter#jupyter-api_2.11;0.2.0-SNAPSHOT\n",
      "\n",
      "\tUnable to reparse com.github.alexarchambault#uplot_2.11;0.1.0-SNAPSHOT from sonatype-snapshots, using Wed Feb 11 00:49:03 CET 2015\n",
      "\n",
      "\tChoosing sonatype-snapshots for com.github.alexarchambault#uplot_2.11;0.1.0-SNAPSHOT\n",
      "\n",
      "\tUnable to reparse com.github.alexarchambault#uplot-highcharts_2.11;0.1.0-SNAPSHOT from sonatype-snapshots, using Wed Feb 11 20:25:55 CET 2015\n",
      "\n",
      "\tChoosing sonatype-snapshots for com.github.alexarchambault#uplot-highcharts_2.11;0.1.0-SNAPSHOT\n",
      "\n"
     ]
    },
    {
     "data": {
      "text/plain": []
     },
     "metadata": {},
     "output_type": "display_data"
    }
   ],
   "source": [
    "load.ivy(\n",
    "  \"com.github.alexarchambault\" %% \"uplot\" % \"0.1.0-SNAPSHOT\",\n",
    "  \"com.github.alexarchambault\" %% \"uplot-highcharts\" % \"0.1.0-SNAPSHOT\"\n",
    ")"
   ]
  },
  {
   "cell_type": "code",
   "execution_count": 12,
   "metadata": {
    "collapsed": false
   },
   "outputs": [
    {
     "data": {
      "text/plain": [
       "\u001b[32mimport \u001b[36muplot._\u001b[0m"
      ]
     },
     "metadata": {},
     "output_type": "display_data"
    }
   ],
   "source": [
    "import uplot._"
   ]
  },
  {
   "cell_type": "code",
   "execution_count": 13,
   "metadata": {
    "collapsed": false
   },
   "outputs": [
    {
     "data": {
      "text/html": [
       "<div>\n",
       "    <script src=\"http://code.highcharts.com/stock/highstock.js\"></script>\n",
       "    <script src=\"http://code.highcharts.com/stock/modules/exporting.js\"></script>\n",
       "    <script src=\"http://www.highcharts.com/js/themes/grid.js\"></script>\n",
       "  </div>"
      ]
     },
     "metadata": {},
     "output_type": "display_data"
    },
    {
     "data": {
      "text/plain": []
     },
     "metadata": {},
     "output_type": "display_data"
    }
   ],
   "source": [
    "display.html(\n",
    "  <div>\n",
    "    <script src=\"http://code.highcharts.com/stock/highstock.js\"></script>\n",
    "    <script src=\"http://code.highcharts.com/stock/modules/exporting.js\"></script>\n",
    "    <script src=\"http://www.highcharts.com/js/themes/grid.js\"></script>\n",
    "  </div>\n",
    ")"
   ]
  },
  {
   "cell_type": "code",
   "execution_count": 14,
   "metadata": {
    "collapsed": false
   },
   "outputs": [
    {
     "data": {
      "text/plain": [
       "defined \u001b[32mfunction \u001b[36mplot\u001b[0m"
      ]
     },
     "metadata": {},
     "output_type": "display_data"
    }
   ],
   "source": [
    "def plot(\n",
    "  stats: Seq[((String, String), List[((String, String), (Double, Double))])],\n",
    "  commits: Seq[(String, String)]\n",
    ") = Plot(\n",
    "  data = stats.map{case ((_, k), v) =>\n",
    "    val map = v.toMap\n",
    "    Data(\n",
    "      x = (1 until commits.length).map(_.toDouble),\n",
    "      y = commits.drop(1).map(c => map.get(c).fold(0.0)(_._1)),\n",
    "      options = Seq(\n",
    "        Data.Legend(k)\n",
    "      )\n",
    "    )\n",
    "  },\n",
    "  options = Seq(\n",
    "    Plot.YLim(0, 180)\n",
    "  )\n",
    ")"
   ]
  },
  {
   "cell_type": "code",
   "execution_count": 15,
   "metadata": {
    "collapsed": false
   },
   "outputs": [
    {
     "data": {
      "text/html": [
       "<div id=\"shapelessGraph\"></div>"
      ]
     },
     "metadata": {},
     "output_type": "display_data"
    },
    {
     "data": {
      "application/javascript": [
       "\n",
       "$(function () {\n",
       "    $('#shapelessGraph').highcharts(\n",
       "{\n",
       "  \"series\" : [\n",
       "    {\n",
       "      \"name\" : \"0. master\",\n",
       "      \"yAxis\" : 0,\n",
       "      \"data\" : [\n",
       "        [\n",
       "          1.0,\n",
       "          32.8\n",
       "        ],\n",
       "        [\n",
       "          2.0,\n",
       "          33.0\n",
       "        ],\n",
       "        [\n",
       "          3.0,\n",
       "          33.6\n",
       "        ],\n",
       "        [\n",
       "          4.0,\n",
       "          33.2\n",
       "        ],\n",
       "        [\n",
       "          5.0,\n",
       "          32.2\n",
       "        ],\n",
       "        [\n",
       "          6.0,\n",
       "          33.4\n",
       "        ]\n",
       "      ],\n",
       "      \"marker\" : {\n",
       "        \"enabled\" : false\n",
       "      },\n",
       "      \"color\" : \"#1f77b4\",\n",
       "      \"lineWidth\" : 1.0,\n",
       "      \"dashStyle\" : \"Solid\"\n",
       "    },\n",
       "    {\n",
       "      \"name\" : \"1. Lazy only, Implicit, no Strict or Cached\",\n",
       "      \"yAxis\" : 0,\n",
       "      \"data\" : [\n",
       "        [\n",
       "          1.0,\n",
       "          164.4\n",
       "        ],\n",
       "        [\n",
       "          2.0,\n",
       "          166.8\n",
       "        ],\n",
       "        [\n",
       "          3.0,\n",
       "          158.4\n",
       "        ],\n",
       "        [\n",
       "          4.0,\n",
       "          159.6\n",
       "        ],\n",
       "        [\n",
       "          5.0,\n",
       "          168.6\n",
       "        ],\n",
       "        [\n",
       "          6.0,\n",
       "          179.0\n",
       "        ]\n",
       "      ],\n",
       "      \"marker\" : {\n",
       "        \"enabled\" : false\n",
       "      },\n",
       "      \"color\" : \"#ff7f0e\",\n",
       "      \"lineWidth\" : 1.0,\n",
       "      \"dashStyle\" : \"Solid\"\n",
       "    },\n",
       "    {\n",
       "      \"name\" : \"2. No Lazy tails\",\n",
       "      \"yAxis\" : 0,\n",
       "      \"data\" : [\n",
       "        [\n",
       "          1.0,\n",
       "          156.4\n",
       "        ],\n",
       "        [\n",
       "          2.0,\n",
       "          157.8\n",
       "        ],\n",
       "        [\n",
       "          3.0,\n",
       "          155.0\n",
       "        ],\n",
       "        [\n",
       "          4.0,\n",
       "          154.4\n",
       "        ],\n",
       "        [\n",
       "          5.0,\n",
       "          158.2\n",
       "        ],\n",
       "        [\n",
       "          6.0,\n",
       "          166.2\n",
       "        ]\n",
       "      ],\n",
       "      \"marker\" : {\n",
       "        \"enabled\" : false\n",
       "      },\n",
       "      \"color\" : \"#2ca02c\",\n",
       "      \"lineWidth\" : 1.0,\n",
       "      \"dashStyle\" : \"Solid\"\n",
       "    },\n",
       "    {\n",
       "      \"name\" : \"3. Helper type classes for tails\",\n",
       "      \"yAxis\" : 0,\n",
       "      \"data\" : [\n",
       "        [\n",
       "          1.0,\n",
       "          139.8\n",
       "        ],\n",
       "        [\n",
       "          2.0,\n",
       "          139.2\n",
       "        ],\n",
       "        [\n",
       "          3.0,\n",
       "          133.8\n",
       "        ],\n",
       "        [\n",
       "          4.0,\n",
       "          131.8\n",
       "        ],\n",
       "        [\n",
       "          5.0,\n",
       "          142.2\n",
       "        ],\n",
       "        [\n",
       "          6.0,\n",
       "          148.4\n",
       "        ]\n",
       "      ],\n",
       "      \"marker\" : {\n",
       "        \"enabled\" : false\n",
       "      },\n",
       "      \"color\" : \"#d62728\",\n",
       "      \"lineWidth\" : 1.0,\n",
       "      \"dashStyle\" : \"Solid\"\n",
       "    },\n",
       "    {\n",
       "      \"name\" : \"4. Usual implicit prioritisation\",\n",
       "      \"yAxis\" : 0,\n",
       "      \"data\" : [\n",
       "        [\n",
       "          1.0,\n",
       "          117.8\n",
       "        ],\n",
       "        [\n",
       "          2.0,\n",
       "          117.2\n",
       "        ],\n",
       "        [\n",
       "          3.0,\n",
       "          111.4\n",
       "        ],\n",
       "        [\n",
       "          4.0,\n",
       "          110.8\n",
       "        ],\n",
       "        [\n",
       "          5.0,\n",
       "          115.6\n",
       "        ],\n",
       "        [\n",
       "          6.0,\n",
       "          122.8\n",
       "        ]\n",
       "      ],\n",
       "      \"marker\" : {\n",
       "        \"enabled\" : false\n",
       "      },\n",
       "      \"color\" : \"#9467bd\",\n",
       "      \"lineWidth\" : 1.0,\n",
       "      \"dashStyle\" : \"Solid\"\n",
       "    },\n",
       "    {\n",
       "      \"name\" : \"5. No superfluous Lazy wrapper\",\n",
       "      \"yAxis\" : 0,\n",
       "      \"data\" : [\n",
       "        [\n",
       "          1.0,\n",
       "          103.2\n",
       "        ],\n",
       "        [\n",
       "          2.0,\n",
       "          105.0\n",
       "        ],\n",
       "        [\n",
       "          3.0,\n",
       "          102.2\n",
       "        ],\n",
       "        [\n",
       "          4.0,\n",
       "          102.4\n",
       "        ],\n",
       "        [\n",
       "          5.0,\n",
       "          105.4\n",
       "        ],\n",
       "        [\n",
       "          6.0,\n",
       "          107.4\n",
       "        ]\n",
       "      ],\n",
       "      \"marker\" : {\n",
       "        \"enabled\" : false\n",
       "      },\n",
       "      \"color\" : \"#8c564b\",\n",
       "      \"lineWidth\" : 1.0,\n",
       "      \"dashStyle\" : \"Solid\"\n",
       "    },\n",
       "    {\n",
       "      \"name\" : \"6. Using Strict\",\n",
       "      \"yAxis\" : 0,\n",
       "      \"data\" : [\n",
       "        [\n",
       "          1.0,\n",
       "          101.6\n",
       "        ],\n",
       "        [\n",
       "          2.0,\n",
       "          99.4\n",
       "        ],\n",
       "        [\n",
       "          3.0,\n",
       "          99.0\n",
       "        ],\n",
       "        [\n",
       "          4.0,\n",
       "          98.0\n",
       "        ],\n",
       "        [\n",
       "          5.0,\n",
       "          101.4\n",
       "        ],\n",
       "        [\n",
       "          6.0,\n",
       "          109.6\n",
       "        ]\n",
       "      ],\n",
       "      \"marker\" : {\n",
       "        \"enabled\" : false\n",
       "      },\n",
       "      \"color\" : \"#e377c2\",\n",
       "      \"lineWidth\" : 1.0,\n",
       "      \"dashStyle\" : \"Solid\"\n",
       "    },\n",
       "    {\n",
       "      \"name\" : \"6. Cached\",\n",
       "      \"yAxis\" : 0,\n",
       "      \"data\" : [\n",
       "        [\n",
       "          1.0,\n",
       "          0.0\n",
       "        ],\n",
       "        [\n",
       "          2.0,\n",
       "          0.0\n",
       "        ],\n",
       "        [\n",
       "          3.0,\n",
       "          0.0\n",
       "        ],\n",
       "        [\n",
       "          4.0,\n",
       "          90.6\n",
       "        ],\n",
       "        [\n",
       "          5.0,\n",
       "          93.4\n",
       "        ],\n",
       "        [\n",
       "          6.0,\n",
       "          94.8\n",
       "        ]\n",
       "      ],\n",
       "      \"marker\" : {\n",
       "        \"enabled\" : false\n",
       "      },\n",
       "      \"color\" : \"#7f7f7f\",\n",
       "      \"lineWidth\" : 1.0,\n",
       "      \"dashStyle\" : \"Solid\"\n",
       "    },\n",
       "    {\n",
       "      \"name\" : \"7. All Strict replaced by Lazy\",\n",
       "      \"yAxis\" : 0,\n",
       "      \"data\" : [\n",
       "        [\n",
       "          1.0,\n",
       "          0.0\n",
       "        ],\n",
       "        [\n",
       "          2.0,\n",
       "          0.0\n",
       "        ],\n",
       "        [\n",
       "          3.0,\n",
       "          0.0\n",
       "        ],\n",
       "        [\n",
       "          4.0,\n",
       "          94.2\n",
       "        ],\n",
       "        [\n",
       "          5.0,\n",
       "          96.8\n",
       "        ],\n",
       "        [\n",
       "          6.0,\n",
       "          99.4\n",
       "        ]\n",
       "      ],\n",
       "      \"marker\" : {\n",
       "        \"enabled\" : false\n",
       "      },\n",
       "      \"color\" : \"#bcbd22\",\n",
       "      \"lineWidth\" : 1.0,\n",
       "      \"dashStyle\" : \"Solid\"\n",
       "    }\n",
       "  ],\n",
       "  \"yAxis\" : [\n",
       "    {\n",
       "      \"plotBands\" : [\n",
       "      ],\n",
       "      \"min\" : 0.0,\n",
       "      \"plotLines\" : [\n",
       "      ],\n",
       "      \"max\" : 180.0,\n",
       "      \"title\" : {\n",
       "        \"text\" : \"\"\n",
       "      },\n",
       "      \"type\" : \"linear\"\n",
       "    }\n",
       "  ],\n",
       "  \"legend\" : {\n",
       "    \"enabled\" : true\n",
       "  },\n",
       "  \"chart\" : {\n",
       "    \"zoomType\" : \"xy\"\n",
       "  },\n",
       "  \"title\" : {\n",
       "    \"text\" : \"\"\n",
       "  },\n",
       "  \"xAxis\" : [\n",
       "    {\n",
       "      \"type\" : \"linear\",\n",
       "      \"title\" : {\n",
       "        \"text\" : \"\"\n",
       "      },\n",
       "      \"plotBands\" : [\n",
       "      ]\n",
       "    }\n",
       "  ]\n",
       "}\n",
       "    );\n",
       "});\n",
       "       "
      ]
     },
     "metadata": {},
     "output_type": "display_data"
    },
    {
     "data": {
      "text/plain": [
       "\u001b[36mid\u001b[0m: \u001b[32mString\u001b[0m = \u001b[32m\"shapelessGraph\"\u001b[0m"
      ]
     },
     "metadata": {},
     "output_type": "display_data"
    }
   ],
   "source": [
    "val id = \"shapelessGraph\"\n",
    "display.html(<div id={id}></div>)\n",
    "display.js(uplot.Highcharts.plotHighchartsJs(plot(shapelessStats, shapelessCommits), id))"
   ]
  },
  {
   "cell_type": "code",
   "execution_count": 16,
   "metadata": {
    "collapsed": false
   },
   "outputs": [
    {
     "data": {
      "text/html": [
       "<div id=\"upickleGraph\"></div>"
      ]
     },
     "metadata": {},
     "output_type": "display_data"
    },
    {
     "data": {
      "application/javascript": [
       "\n",
       "$(function () {\n",
       "    $('#upickleGraph').highcharts(\n",
       "{\n",
       "  \"series\" : [\n",
       "    {\n",
       "      \"name\" : \"0. master\",\n",
       "      \"yAxis\" : 0,\n",
       "      \"data\" : [\n",
       "        [\n",
       "          1.0,\n",
       "          0.0\n",
       "        ],\n",
       "        [\n",
       "          2.0,\n",
       "          0.0\n",
       "        ],\n",
       "        [\n",
       "          3.0,\n",
       "          0.0\n",
       "        ],\n",
       "        [\n",
       "          4.0,\n",
       "          0.0\n",
       "        ],\n",
       "        [\n",
       "          5.0,\n",
       "          0.0\n",
       "        ],\n",
       "        [\n",
       "          6.0,\n",
       "          0.0\n",
       "        ],\n",
       "        [\n",
       "          7.0,\n",
       "          0.0\n",
       "        ],\n",
       "        [\n",
       "          8.0,\n",
       "          0.0\n",
       "        ]\n",
       "      ],\n",
       "      \"marker\" : {\n",
       "        \"enabled\" : false\n",
       "      },\n",
       "      \"color\" : \"#1f77b4\",\n",
       "      \"lineWidth\" : 1.0,\n",
       "      \"dashStyle\" : \"Solid\"\n",
       "    },\n",
       "    {\n",
       "      \"name\" : \"1. v0\",\n",
       "      \"yAxis\" : 0,\n",
       "      \"data\" : [\n",
       "        [\n",
       "          1.0,\n",
       "          164.4\n",
       "        ],\n",
       "        [\n",
       "          2.0,\n",
       "          156.4\n",
       "        ],\n",
       "        [\n",
       "          3.0,\n",
       "          139.8\n",
       "        ],\n",
       "        [\n",
       "          4.0,\n",
       "          117.8\n",
       "        ],\n",
       "        [\n",
       "          5.0,\n",
       "          103.2\n",
       "        ],\n",
       "        [\n",
       "          6.0,\n",
       "          101.6\n",
       "        ],\n",
       "        [\n",
       "          7.0,\n",
       "          0.0\n",
       "        ],\n",
       "        [\n",
       "          8.0,\n",
       "          0.0\n",
       "        ]\n",
       "      ],\n",
       "      \"marker\" : {\n",
       "        \"enabled\" : false\n",
       "      },\n",
       "      \"color\" : \"#ff7f0e\",\n",
       "      \"lineWidth\" : 1.0,\n",
       "      \"dashStyle\" : \"Solid\"\n",
       "    },\n",
       "    {\n",
       "      \"name\" : \"2. Strict Implicit\",\n",
       "      \"yAxis\" : 0,\n",
       "      \"data\" : [\n",
       "        [\n",
       "          1.0,\n",
       "          166.8\n",
       "        ],\n",
       "        [\n",
       "          2.0,\n",
       "          157.8\n",
       "        ],\n",
       "        [\n",
       "          3.0,\n",
       "          139.2\n",
       "        ],\n",
       "        [\n",
       "          4.0,\n",
       "          117.2\n",
       "        ],\n",
       "        [\n",
       "          5.0,\n",
       "          105.0\n",
       "        ],\n",
       "        [\n",
       "          6.0,\n",
       "          99.4\n",
       "        ],\n",
       "        [\n",
       "          7.0,\n",
       "          0.0\n",
       "        ],\n",
       "        [\n",
       "          8.0,\n",
       "          0.0\n",
       "        ]\n",
       "      ],\n",
       "      \"marker\" : {\n",
       "        \"enabled\" : false\n",
       "      },\n",
       "      \"color\" : \"#2ca02c\",\n",
       "      \"lineWidth\" : 1.0,\n",
       "      \"dashStyle\" : \"Solid\"\n",
       "    },\n",
       "    {\n",
       "      \"name\" : \"3. inlining\",\n",
       "      \"yAxis\" : 0,\n",
       "      \"data\" : [\n",
       "        [\n",
       "          1.0,\n",
       "          158.4\n",
       "        ],\n",
       "        [\n",
       "          2.0,\n",
       "          155.0\n",
       "        ],\n",
       "        [\n",
       "          3.0,\n",
       "          133.8\n",
       "        ],\n",
       "        [\n",
       "          4.0,\n",
       "          111.4\n",
       "        ],\n",
       "        [\n",
       "          5.0,\n",
       "          102.2\n",
       "        ],\n",
       "        [\n",
       "          6.0,\n",
       "          99.0\n",
       "        ],\n",
       "        [\n",
       "          7.0,\n",
       "          0.0\n",
       "        ],\n",
       "        [\n",
       "          8.0,\n",
       "          0.0\n",
       "        ]\n",
       "      ],\n",
       "      \"marker\" : {\n",
       "        \"enabled\" : false\n",
       "      },\n",
       "      \"color\" : \"#d62728\",\n",
       "      \"lineWidth\" : 1.0,\n",
       "      \"dashStyle\" : \"Solid\"\n",
       "    },\n",
       "    {\n",
       "      \"name\" : \"4. cached\",\n",
       "      \"yAxis\" : 0,\n",
       "      \"data\" : [\n",
       "        [\n",
       "          1.0,\n",
       "          159.6\n",
       "        ],\n",
       "        [\n",
       "          2.0,\n",
       "          154.4\n",
       "        ],\n",
       "        [\n",
       "          3.0,\n",
       "          131.8\n",
       "        ],\n",
       "        [\n",
       "          4.0,\n",
       "          110.8\n",
       "        ],\n",
       "        [\n",
       "          5.0,\n",
       "          102.4\n",
       "        ],\n",
       "        [\n",
       "          6.0,\n",
       "          98.0\n",
       "        ],\n",
       "        [\n",
       "          7.0,\n",
       "          90.6\n",
       "        ],\n",
       "        [\n",
       "          8.0,\n",
       "          94.2\n",
       "        ]\n",
       "      ],\n",
       "      \"marker\" : {\n",
       "        \"enabled\" : false\n",
       "      },\n",
       "      \"color\" : \"#9467bd\",\n",
       "      \"lineWidth\" : 1.0,\n",
       "      \"dashStyle\" : \"Solid\"\n",
       "    },\n",
       "    {\n",
       "      \"name\" : \"5. Don't clear scalac implicit cache\",\n",
       "      \"yAxis\" : 0,\n",
       "      \"data\" : [\n",
       "        [\n",
       "          1.0,\n",
       "          168.6\n",
       "        ],\n",
       "        [\n",
       "          2.0,\n",
       "          158.2\n",
       "        ],\n",
       "        [\n",
       "          3.0,\n",
       "          142.2\n",
       "        ],\n",
       "        [\n",
       "          4.0,\n",
       "          115.6\n",
       "        ],\n",
       "        [\n",
       "          5.0,\n",
       "          105.4\n",
       "        ],\n",
       "        [\n",
       "          6.0,\n",
       "          101.4\n",
       "        ],\n",
       "        [\n",
       "          7.0,\n",
       "          93.4\n",
       "        ],\n",
       "        [\n",
       "          8.0,\n",
       "          96.8\n",
       "        ]\n",
       "      ],\n",
       "      \"marker\" : {\n",
       "        \"enabled\" : false\n",
       "      },\n",
       "      \"color\" : \"#8c564b\",\n",
       "      \"lineWidth\" : 1.0,\n",
       "      \"dashStyle\" : \"Solid\"\n",
       "    },\n",
       "    {\n",
       "      \"name\" : \"6. Revert inlining\",\n",
       "      \"yAxis\" : 0,\n",
       "      \"data\" : [\n",
       "        [\n",
       "          1.0,\n",
       "          179.0\n",
       "        ],\n",
       "        [\n",
       "          2.0,\n",
       "          166.2\n",
       "        ],\n",
       "        [\n",
       "          3.0,\n",
       "          148.4\n",
       "        ],\n",
       "        [\n",
       "          4.0,\n",
       "          122.8\n",
       "        ],\n",
       "        [\n",
       "          5.0,\n",
       "          107.4\n",
       "        ],\n",
       "        [\n",
       "          6.0,\n",
       "          109.6\n",
       "        ],\n",
       "        [\n",
       "          7.0,\n",
       "          94.8\n",
       "        ],\n",
       "        [\n",
       "          8.0,\n",
       "          99.4\n",
       "        ]\n",
       "      ],\n",
       "      \"marker\" : {\n",
       "        \"enabled\" : false\n",
       "      },\n",
       "      \"color\" : \"#e377c2\",\n",
       "      \"lineWidth\" : 1.0,\n",
       "      \"dashStyle\" : \"Solid\"\n",
       "    }\n",
       "  ],\n",
       "  \"yAxis\" : [\n",
       "    {\n",
       "      \"plotBands\" : [\n",
       "      ],\n",
       "      \"min\" : 0.0,\n",
       "      \"plotLines\" : [\n",
       "      ],\n",
       "      \"max\" : 180.0,\n",
       "      \"title\" : {\n",
       "        \"text\" : \"\"\n",
       "      },\n",
       "      \"type\" : \"linear\"\n",
       "    }\n",
       "  ],\n",
       "  \"legend\" : {\n",
       "    \"enabled\" : true\n",
       "  },\n",
       "  \"chart\" : {\n",
       "    \"zoomType\" : \"xy\"\n",
       "  },\n",
       "  \"title\" : {\n",
       "    \"text\" : \"\"\n",
       "  },\n",
       "  \"xAxis\" : [\n",
       "    {\n",
       "      \"type\" : \"linear\",\n",
       "      \"title\" : {\n",
       "        \"text\" : \"\"\n",
       "      },\n",
       "      \"plotBands\" : [\n",
       "      ]\n",
       "    }\n",
       "  ]\n",
       "}\n",
       "    );\n",
       "});\n",
       "       "
      ]
     },
     "metadata": {},
     "output_type": "display_data"
    },
    {
     "data": {
      "text/plain": [
       "\u001b[36mid\u001b[0m: \u001b[32mString\u001b[0m = \u001b[32m\"upickleGraph\"\u001b[0m"
      ]
     },
     "metadata": {},
     "output_type": "display_data"
    }
   ],
   "source": [
    "val id = \"upickleGraph\"\n",
    "display.html(<div id={id}></div>)\n",
    "display.js(uplot.Highcharts.plotHighchartsJs(plot(upickleStats, upickleCommits), id))"
   ]
  },
  {
   "cell_type": "code",
   "execution_count": null,
   "metadata": {
    "collapsed": true
   },
   "outputs": [],
   "source": []
  }
 ],
 "metadata": {
  "kernelspec": {
   "display_name": "Scala 2.11",
   "language": "scala211",
   "name": "scala211"
  },
  "language_info": {
   "codemirror_mode": "text/x-scala",
   "file_extension": "scala",
   "mimetype": "text/x-scala",
   "name": "scala211",
   "pygments_lexer": "scala",
   "version": "2.11.6"
  }
 },
 "nbformat": 4,
 "nbformat_minor": 0
}
